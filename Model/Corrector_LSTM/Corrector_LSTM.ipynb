{
  "cells": [
    {
      "cell_type": "code",
      "execution_count": 37,
      "metadata": {
        "id": "10T5RamHrpoA"
      },
      "outputs": [],
      "source": []
    },
    {
      "cell_type": "markdown",
      "metadata": {
        "id": "nfY1foP4rzxo"
      },
      "source": [
        "# Step1: Load_Data"
      ]
    },
    {
      "cell_type": "code",
      "execution_count": 38,
      "metadata": {
        "id": "HkcG_x12r13h"
      },
      "outputs": [],
      "source": [
        "# import req library\n",
        "\n",
        "import pandas as pd\n",
        "import numpy as np\n",
        "import matplotlib.pyplot as plt\n",
        "from sklearn.preprocessing import MinMaxScaler\n",
        "from tensorflow.keras.models import Sequential\n",
        "from tensorflow.keras.layers import LSTM, Dense"
      ]
    },
    {
      "cell_type": "markdown",
      "metadata": {
        "id": "V2YffFPQzhGA"
      },
      "source": [
        "Data in format y-m-d"
      ]
    },
    {
      "cell_type": "code",
      "execution_count": 39,
      "metadata": {
        "id": "r2ql8DUWr_8J"
      },
      "outputs": [],
      "source": [
        "# Load the dataset\n",
        "\n",
        "file_path = '/content/cleanData_TCS_25Aug2004_5sep2024_NSE.csv'\n",
        "data = pd.read_csv(file_path)\n",
        "\n",
        "# Convert 'Date' column to datetime\n",
        "data['Date'] = pd.to_datetime(data['Date'], format='%Y-%m-%d') # Changed %y to %Y"
      ]
    },
    {
      "cell_type": "markdown",
      "metadata": {
        "id": "2pMSlM9nWnRx"
      },
      "source": [
        "## s(i) EDA"
      ]
    },
    {
      "cell_type": "markdown",
      "metadata": {
        "id": "E0C51rE5Wzx6"
      },
      "source": [
        "EDA = Exploratory data analysis"
      ]
    },
    {
      "cell_type": "code",
      "execution_count": 40,
      "metadata": {
        "id": "M1W2ksYnWkCy"
      },
      "outputs": [],
      "source": [
        "# import ydata python library instead of pandas-profiling\n",
        "\n",
        "# !pip install ydata-profiling\n",
        "\n",
        "# from ydata_profiling import ProfileReport\n",
        "\n",
        "# # create profile\n",
        "# profile = ProfileReport(data)\n",
        "\n",
        "# # save report\n",
        "# profile.to_file(output_file='output_TCS.html')"
      ]
    },
    {
      "cell_type": "markdown",
      "metadata": {
        "id": "FEZzcGRJXHZp"
      },
      "source": [
        "## s(ii) Trail_01_deleteLast_5rows"
      ]
    },
    {
      "cell_type": "code",
      "execution_count": 41,
      "metadata": {
        "colab": {
          "base_uri": "https://localhost:8080/"
        },
        "id": "8jv83sqNWj_Y",
        "outputId": "8f20446d-43c0-419e-b39c-88da94dabcab"
      },
      "outputs": [
        {
          "output_type": "stream",
          "name": "stdout",
          "text": [
            "Original dataset:\n",
            "            Date      Open      High       Low     Close       Volume\n",
            "0     2004-08-25  1,198.70  1,198.70       979    987.95  1,71,16,372\n",
            "1     2004-08-26       992       997     975.3       979    50,55,400\n",
            "2     2004-08-27     982.4     982.4    958.55    962.65    38,30,750\n",
            "3     2004-08-30     969.9       990       965    986.75    30,58,151\n",
            "4     2004-08-31     986.5       990       976     988.1    26,49,332\n",
            "...          ...       ...       ...       ...       ...          ...\n",
            "4962  2024-08-30  4,500.00  4,592.25  4,487.80  4,553.75    36,37,222\n",
            "4963  2024-09-02  4,576.00  4,588.00  4,512.00  4,521.05    12,16,500\n",
            "4964  2024-09-03  4,521.05  4,555.90  4,495.90  4,512.35    17,17,263\n",
            "4965  2024-09-04  4,476.95  4,487.00  4,436.70  4,479.25    12,65,505\n",
            "4966  2024-09-05  4,481.00  4,499.00  4,454.15  4,475.95    16,88,793\n",
            "\n",
            "[4967 rows x 6 columns]\n",
            "\n",
            "Updated dataset (last 5 rows removed):\n",
            "            Date      Open      High       Low     Close       Volume\n",
            "0     2004-08-25  1,198.70  1,198.70       979    987.95  1,71,16,372\n",
            "1     2004-08-26       992       997     975.3       979    50,55,400\n",
            "2     2004-08-27     982.4     982.4    958.55    962.65    38,30,750\n",
            "3     2004-08-30     969.9       990       965    986.75    30,58,151\n",
            "4     2004-08-31     986.5       990       976     988.1    26,49,332\n",
            "...          ...       ...       ...       ...       ...          ...\n",
            "4957  2024-08-23  4,500.00  4,506.00  4,455.00  4,463.90    18,09,253\n",
            "4958  2024-08-26  4,489.00  4,552.15  4,485.00  4,502.45    18,44,164\n",
            "4959  2024-08-27  4,505.00  4,510.00  4,486.80  4,497.15     9,30,697\n",
            "4960  2024-08-28  4,498.75  4,562.50  4,457.30  4,506.05    18,48,058\n",
            "4961  2024-08-29  4,460.00  4,556.00  4,460.00  4,511.80    21,33,641\n",
            "\n",
            "[4962 rows x 6 columns]\n"
          ]
        }
      ],
      "source": [
        "\n",
        "file_path = '/content/cleanData_TCS_25Aug2004_5sep2024_NSE.csv'\n",
        "\n",
        "data = pd.read_csv(file_path)\n",
        "# Display the original dataset\n",
        "print(\"Original dataset:\")\n",
        "print(data)\n",
        "\n",
        "# Remove the last 5 rows\n",
        "data = data[:-5]\n",
        "\n",
        "# Display the updated dataset\n",
        "print(\"\\nUpdated dataset (last 5 rows removed):\")\n",
        "print(data)\n"
      ]
    },
    {
      "cell_type": "markdown",
      "metadata": {
        "id": "WVovOZxUsNaq"
      },
      "source": [
        "# Step2: Data_PreProcessing"
      ]
    },
    {
      "cell_type": "markdown",
      "metadata": {
        "id": "_ZEeN1ZasaHA"
      },
      "source": [
        "## s(i) assign_Dep_Indep_Variable"
      ]
    },
    {
      "cell_type": "code",
      "execution_count": 42,
      "metadata": {
        "id": "rZwhMGHVsHjY"
      },
      "outputs": [],
      "source": [
        "# Independent variables (X-axis): 'Open', 'Low', 'High', 'Adj Close', 'Volume'\n",
        "# Dependent variable (Y-axis): 'Close'\n",
        "\n",
        "\n",
        "X = data[['Open', 'Low', 'High', 'Volume']].values\n",
        "Y = data['Close'].values"
      ]
    },
    {
      "cell_type": "code",
      "execution_count": 43,
      "metadata": {
        "colab": {
          "base_uri": "https://localhost:8080/"
        },
        "id": "vltqybg9sjP3",
        "outputId": "c0b7effe-767f-498c-9aac-95b308078908"
      },
      "outputs": [
        {
          "output_type": "execute_result",
          "data": {
            "text/plain": [
              "array([['1,198.70', '979', '1,198.70', '1,71,16,372'],\n",
              "       ['992', '975.3', '997', '50,55,400'],\n",
              "       ['982.4', '958.55', '982.4', '38,30,750'],\n",
              "       ...,\n",
              "       ['4,505.00', '4,486.80', '4,510.00', '9,30,697'],\n",
              "       ['4,498.75', '4,457.30', '4,562.50', '18,48,058'],\n",
              "       ['4,460.00', '4,460.00', '4,556.00', '21,33,641']], dtype=object)"
            ]
          },
          "metadata": {},
          "execution_count": 43
        }
      ],
      "source": [
        "X"
      ]
    },
    {
      "cell_type": "markdown",
      "metadata": {
        "id": "Evq4l1oxsvvw"
      },
      "source": [
        "## s(ii) Normalize_MinMax_Scale"
      ]
    },
    {
      "cell_type": "code",
      "execution_count": 44,
      "metadata": {
        "id": "lH7xQJ3bx4Bs"
      },
      "outputs": [],
      "source": [
        "import pandas as pd\n",
        "from sklearn.preprocessing import MinMaxScaler\n",
        "\n",
        "# Replace commas in numerical columns with empty strings and convert to numeric\n",
        "\n",
        "for col in ['Open', 'Low', 'High', 'Volume', 'Close']: # Include 'Close' in the loop\n",
        "\n",
        "    if data[col].dtype == object:\n",
        "        data[col] = pd.to_numeric(data[col].str.replace(',', ''), errors='coerce')\n",
        "    else:\n",
        "      pass\n",
        "\n",
        "\n",
        "\n",
        "# Now, redefine X and Y using the updated 'data'\n",
        "X = data[['Open', 'Low', 'High', 'Volume']].values\n",
        "Y = data['Close'].values\n",
        "\n",
        "\n",
        "scaler_X = MinMaxScaler()\n",
        "scaler_Y = MinMaxScaler()\n",
        "\n",
        "X_scaled = scaler_X.fit_transform(X)\n",
        "Y_scaled = scaler_Y.fit_transform(Y.reshape(-1, 1))"
      ]
    },
    {
      "cell_type": "code",
      "execution_count": 45,
      "metadata": {
        "id": "UkBLoQlbsr7w"
      },
      "outputs": [],
      "source": [
        "# Scale the data\n",
        "scaler_X = MinMaxScaler()\n",
        "scaler_Y = MinMaxScaler()\n",
        "\n",
        "X_scaled = scaler_X.fit_transform(X)\n",
        "Y_scaled = scaler_Y.fit_transform(Y.reshape(-1, 1))"
      ]
    },
    {
      "cell_type": "markdown",
      "metadata": {
        "id": "VJanAtdqstyj"
      },
      "source": [
        "Why 60?\n",
        "\n",
        "Ans: In summary, look_back = 60 means you are using the previous 60 time steps of data to predict the next time step in your time series prediction task. Adjusting this parameter might affect how your model learns from historical data and predicts future values.\n",
        "\n",
        "\n",
        "\n",
        "*   The choice of look_back = 60 in our example suggests that we are using 60 previous time steps (or data points) to predict the next data point in our time series.\n",
        "\n",
        "\n"
      ]
    },
    {
      "cell_type": "code",
      "execution_count": 46,
      "metadata": {
        "id": "gzBQ_Gdisxiw"
      },
      "outputs": [],
      "source": [
        "# Create a function to create sequences for LSTM\n",
        "\n",
        "def create_sequences(X, Y, time_steps=1):\n",
        "    Xs, Ys = [], []\n",
        "    for i in range(len(X) - time_steps):\n",
        "        Xs.append(X[i:(i + time_steps)])\n",
        "        Ys.append(Y[i + time_steps])\n",
        "    return np.array(Xs), np.array(Ys)\n",
        "\n",
        "\n",
        "time_steps = 60  # Use the past 60 days to predict the next day\n",
        "X_seq, Y_seq = create_sequences(X_scaled, Y_scaled, time_steps)"
      ]
    },
    {
      "cell_type": "markdown",
      "metadata": {
        "id": "MQs-MwslT6yZ"
      },
      "source": [
        "## s(iii) split_TrainTest"
      ]
    },
    {
      "cell_type": "code",
      "execution_count": 47,
      "metadata": {
        "id": "NFi62y4LtYVJ"
      },
      "outputs": [],
      "source": [
        "# Split the data into training and test sets\n",
        "\n",
        "\n",
        "train_size = int(len(X) * 0.8)  # 80% for training, 20% for testing\n",
        "\n",
        "\n",
        "X_train, X_test = X[:train_size], X[train_size:]\n",
        "Y_train, Y_test = Y[:train_size], Y[train_size:]"
      ]
    },
    {
      "cell_type": "markdown",
      "metadata": {
        "id": "TunD39GHtc0I"
      },
      "source": [
        "# Step3: cLSTM_Model"
      ]
    },
    {
      "cell_type": "code",
      "execution_count": 48,
      "metadata": {
        "id": "dP8SJXkUtdtq"
      },
      "outputs": [],
      "source": [
        "import tensorflow as tf\n",
        "from tensorflow.keras.models import Sequential\n",
        "from tensorflow.keras.layers import LSTM, Dense, Dropout"
      ]
    },
    {
      "cell_type": "markdown",
      "source": [
        " Define the Corrector LSTM (cLSTM) Model"
      ],
      "metadata": {
        "id": "oqm5VrE5-sUm"
      }
    },
    {
      "cell_type": "code",
      "source": [
        "\n",
        "# Define the cLSTM model\n",
        "class cLSTMModel:\n",
        "    def __init__(self, input_size=1, hidden_layer_size=32, num_layers=2, output_size=1, dropout=0.2):\n",
        "        self.model = Sequential()\n",
        "\n",
        "        # First LSTM layer\n",
        "        self.model.add(LSTM(units=50, return_sequences=True, input_shape=(input_size, 1)))\n",
        "        self.model.add(Dropout(dropout))\n",
        "\n",
        "        # Second LSTM layer\n",
        "        self.model.add(LSTM(units=50, return_sequences=False))\n",
        "        self.model.add(Dropout(dropout))\n",
        "\n",
        "        # Dense layer for final prediction\n",
        "        self.model.add(Dense(units=output_size))\n",
        "\n",
        "        # Compile the model\n",
        "        self.model.compile(optimizer='adam', loss='mean_squared_error')\n",
        "\n",
        "    def train(self, X_train, y_train, epochs=50, batch_size=32, validation_data=None):\n",
        "        return self.model.fit(X_train, y_train, epochs=epochs, batch_size=batch_size, validation_data=validation_data, verbose=1)\n",
        "\n",
        "    def predict(self, X_test):\n",
        "        return self.model.predict(X_test)\n",
        "\n",
        "    def evaluate(self, X_test, y_test):\n",
        "        return self.model.evaluate(X_test, y_test, verbose=0)\n"
      ],
      "metadata": {
        "id": "s6GHjR8L-P3c"
      },
      "execution_count": 49,
      "outputs": []
    },
    {
      "cell_type": "markdown",
      "source": [
        "SARIMA Model for Correction"
      ],
      "metadata": {
        "id": "mE1I6Smq-ybq"
      }
    },
    {
      "cell_type": "code",
      "source": [
        "from statsmodels.tsa.arima.model import ARIMA"
      ],
      "metadata": {
        "id": "fskR6uVX_XS2"
      },
      "execution_count": 50,
      "outputs": []
    },
    {
      "cell_type": "code",
      "source": [
        "from statsmodels.tsa.arima.model import ARIMA\n",
        "\n",
        "# Function to fit and forecast SARIMA model\n",
        "def fit_sarima(data, order=(5, 1, 0)):\n",
        "    model = ARIMA(data, order=order)\n",
        "    model_fit = model.fit()\n",
        "    forecast = model_fit.forecast(steps=1)\n",
        "    return forecast[0]\n",
        "\n",
        "# Function to apply correction based on SARIMA\n",
        "def correct_lstm_output(lstm_output, actual, threshold=0.05):\n",
        "    forecast = fit_sarima(actual)  # Get SARIMA forecast for correction\n",
        "\n",
        "    # Calculate error between SARIMA forecast and LSTM output\n",
        "    error = np.abs(forecast - lstm_output)\n",
        "\n",
        "    # If error exceeds the threshold, correct the LSTM output\n",
        "    if error > threshold:\n",
        "        corrected_output = forecast\n",
        "    else:\n",
        "        corrected_output = lstm_output\n",
        "\n",
        "    return corrected_output\n"
      ],
      "metadata": {
        "id": "_UqbzVuN-Py3"
      },
      "execution_count": 51,
      "outputs": []
    },
    {
      "cell_type": "code",
      "source": [],
      "metadata": {
        "id": "ulkKzViDHYOl"
      },
      "execution_count": 51,
      "outputs": []
    },
    {
      "cell_type": "code",
      "source": [
        "# model summary\n",
        "model = cLSTMModel()\n",
        "\n",
        "model.model.summary()"
      ],
      "metadata": {
        "colab": {
          "base_uri": "https://localhost:8080/",
          "height": 344
        },
        "id": "m000B_39FwGu",
        "outputId": "8a30384b-fe96-413e-da8d-dc0557bbf924"
      },
      "execution_count": 52,
      "outputs": [
        {
          "output_type": "stream",
          "name": "stderr",
          "text": [
            "/usr/local/lib/python3.10/dist-packages/keras/src/layers/rnn/rnn.py:204: UserWarning: Do not pass an `input_shape`/`input_dim` argument to a layer. When using Sequential models, prefer using an `Input(shape)` object as the first layer in the model instead.\n",
            "  super().__init__(**kwargs)\n"
          ]
        },
        {
          "output_type": "display_data",
          "data": {
            "text/plain": [
              "\u001b[1mModel: \"sequential_3\"\u001b[0m\n"
            ],
            "text/html": [
              "<pre style=\"white-space:pre;overflow-x:auto;line-height:normal;font-family:Menlo,'DejaVu Sans Mono',consolas,'Courier New',monospace\"><span style=\"font-weight: bold\">Model: \"sequential_3\"</span>\n",
              "</pre>\n"
            ]
          },
          "metadata": {}
        },
        {
          "output_type": "display_data",
          "data": {
            "text/plain": [
              "┏━━━━━━━━━━━━━━━━━━━━━━━━━━━━━━━━━━━━━━┳━━━━━━━━━━━━━━━━━━━━━━━━━━━━━┳━━━━━━━━━━━━━━━━━┓\n",
              "┃\u001b[1m \u001b[0m\u001b[1mLayer (type)                        \u001b[0m\u001b[1m \u001b[0m┃\u001b[1m \u001b[0m\u001b[1mOutput Shape               \u001b[0m\u001b[1m \u001b[0m┃\u001b[1m \u001b[0m\u001b[1m        Param #\u001b[0m\u001b[1m \u001b[0m┃\n",
              "┡━━━━━━━━━━━━━━━━━━━━━━━━━━━━━━━━━━━━━━╇━━━━━━━━━━━━━━━━━━━━━━━━━━━━━╇━━━━━━━━━━━━━━━━━┩\n",
              "│ lstm_6 (\u001b[38;5;33mLSTM\u001b[0m)                        │ (\u001b[38;5;45mNone\u001b[0m, \u001b[38;5;34m1\u001b[0m, \u001b[38;5;34m50\u001b[0m)               │          \u001b[38;5;34m10,400\u001b[0m │\n",
              "├──────────────────────────────────────┼─────────────────────────────┼─────────────────┤\n",
              "│ dropout_6 (\u001b[38;5;33mDropout\u001b[0m)                  │ (\u001b[38;5;45mNone\u001b[0m, \u001b[38;5;34m1\u001b[0m, \u001b[38;5;34m50\u001b[0m)               │               \u001b[38;5;34m0\u001b[0m │\n",
              "├──────────────────────────────────────┼─────────────────────────────┼─────────────────┤\n",
              "│ lstm_7 (\u001b[38;5;33mLSTM\u001b[0m)                        │ (\u001b[38;5;45mNone\u001b[0m, \u001b[38;5;34m50\u001b[0m)                  │          \u001b[38;5;34m20,200\u001b[0m │\n",
              "├──────────────────────────────────────┼─────────────────────────────┼─────────────────┤\n",
              "│ dropout_7 (\u001b[38;5;33mDropout\u001b[0m)                  │ (\u001b[38;5;45mNone\u001b[0m, \u001b[38;5;34m50\u001b[0m)                  │               \u001b[38;5;34m0\u001b[0m │\n",
              "├──────────────────────────────────────┼─────────────────────────────┼─────────────────┤\n",
              "│ dense_3 (\u001b[38;5;33mDense\u001b[0m)                      │ (\u001b[38;5;45mNone\u001b[0m, \u001b[38;5;34m1\u001b[0m)                   │              \u001b[38;5;34m51\u001b[0m │\n",
              "└──────────────────────────────────────┴─────────────────────────────┴─────────────────┘\n"
            ],
            "text/html": [
              "<pre style=\"white-space:pre;overflow-x:auto;line-height:normal;font-family:Menlo,'DejaVu Sans Mono',consolas,'Courier New',monospace\">┏━━━━━━━━━━━━━━━━━━━━━━━━━━━━━━━━━━━━━━┳━━━━━━━━━━━━━━━━━━━━━━━━━━━━━┳━━━━━━━━━━━━━━━━━┓\n",
              "┃<span style=\"font-weight: bold\"> Layer (type)                         </span>┃<span style=\"font-weight: bold\"> Output Shape                </span>┃<span style=\"font-weight: bold\">         Param # </span>┃\n",
              "┡━━━━━━━━━━━━━━━━━━━━━━━━━━━━━━━━━━━━━━╇━━━━━━━━━━━━━━━━━━━━━━━━━━━━━╇━━━━━━━━━━━━━━━━━┩\n",
              "│ lstm_6 (<span style=\"color: #0087ff; text-decoration-color: #0087ff\">LSTM</span>)                        │ (<span style=\"color: #00d7ff; text-decoration-color: #00d7ff\">None</span>, <span style=\"color: #00af00; text-decoration-color: #00af00\">1</span>, <span style=\"color: #00af00; text-decoration-color: #00af00\">50</span>)               │          <span style=\"color: #00af00; text-decoration-color: #00af00\">10,400</span> │\n",
              "├──────────────────────────────────────┼─────────────────────────────┼─────────────────┤\n",
              "│ dropout_6 (<span style=\"color: #0087ff; text-decoration-color: #0087ff\">Dropout</span>)                  │ (<span style=\"color: #00d7ff; text-decoration-color: #00d7ff\">None</span>, <span style=\"color: #00af00; text-decoration-color: #00af00\">1</span>, <span style=\"color: #00af00; text-decoration-color: #00af00\">50</span>)               │               <span style=\"color: #00af00; text-decoration-color: #00af00\">0</span> │\n",
              "├──────────────────────────────────────┼─────────────────────────────┼─────────────────┤\n",
              "│ lstm_7 (<span style=\"color: #0087ff; text-decoration-color: #0087ff\">LSTM</span>)                        │ (<span style=\"color: #00d7ff; text-decoration-color: #00d7ff\">None</span>, <span style=\"color: #00af00; text-decoration-color: #00af00\">50</span>)                  │          <span style=\"color: #00af00; text-decoration-color: #00af00\">20,200</span> │\n",
              "├──────────────────────────────────────┼─────────────────────────────┼─────────────────┤\n",
              "│ dropout_7 (<span style=\"color: #0087ff; text-decoration-color: #0087ff\">Dropout</span>)                  │ (<span style=\"color: #00d7ff; text-decoration-color: #00d7ff\">None</span>, <span style=\"color: #00af00; text-decoration-color: #00af00\">50</span>)                  │               <span style=\"color: #00af00; text-decoration-color: #00af00\">0</span> │\n",
              "├──────────────────────────────────────┼─────────────────────────────┼─────────────────┤\n",
              "│ dense_3 (<span style=\"color: #0087ff; text-decoration-color: #0087ff\">Dense</span>)                      │ (<span style=\"color: #00d7ff; text-decoration-color: #00d7ff\">None</span>, <span style=\"color: #00af00; text-decoration-color: #00af00\">1</span>)                   │              <span style=\"color: #00af00; text-decoration-color: #00af00\">51</span> │\n",
              "└──────────────────────────────────────┴─────────────────────────────┴─────────────────┘\n",
              "</pre>\n"
            ]
          },
          "metadata": {}
        },
        {
          "output_type": "display_data",
          "data": {
            "text/plain": [
              "\u001b[1m Total params: \u001b[0m\u001b[38;5;34m30,651\u001b[0m (119.73 KB)\n"
            ],
            "text/html": [
              "<pre style=\"white-space:pre;overflow-x:auto;line-height:normal;font-family:Menlo,'DejaVu Sans Mono',consolas,'Courier New',monospace\"><span style=\"font-weight: bold\"> Total params: </span><span style=\"color: #00af00; text-decoration-color: #00af00\">30,651</span> (119.73 KB)\n",
              "</pre>\n"
            ]
          },
          "metadata": {}
        },
        {
          "output_type": "display_data",
          "data": {
            "text/plain": [
              "\u001b[1m Trainable params: \u001b[0m\u001b[38;5;34m30,651\u001b[0m (119.73 KB)\n"
            ],
            "text/html": [
              "<pre style=\"white-space:pre;overflow-x:auto;line-height:normal;font-family:Menlo,'DejaVu Sans Mono',consolas,'Courier New',monospace\"><span style=\"font-weight: bold\"> Trainable params: </span><span style=\"color: #00af00; text-decoration-color: #00af00\">30,651</span> (119.73 KB)\n",
              "</pre>\n"
            ]
          },
          "metadata": {}
        },
        {
          "output_type": "display_data",
          "data": {
            "text/plain": [
              "\u001b[1m Non-trainable params: \u001b[0m\u001b[38;5;34m0\u001b[0m (0.00 B)\n"
            ],
            "text/html": [
              "<pre style=\"white-space:pre;overflow-x:auto;line-height:normal;font-family:Menlo,'DejaVu Sans Mono',consolas,'Courier New',monospace\"><span style=\"font-weight: bold\"> Non-trainable params: </span><span style=\"color: #00af00; text-decoration-color: #00af00\">0</span> (0.00 B)\n",
              "</pre>\n"
            ]
          },
          "metadata": {}
        }
      ]
    },
    {
      "cell_type": "markdown",
      "source": [
        "Training the cLSTM Model"
      ],
      "metadata": {
        "id": "MSH1kCMT_gTl"
      }
    },
    {
      "cell_type": "code",
      "source": [
        "# Initialize cLSTM model\n",
        "clstm = cLSTMModel(input_size=X_train.shape[1], hidden_layer_size=32, num_layers=2, output_size=1, dropout=0.2)\n",
        "\n",
        "# Train the model\n",
        "clstm.train(X_train, Y_train, epochs=10, batch_size=32, validation_data=(X_test, Y_test))\n"
      ],
      "metadata": {
        "colab": {
          "base_uri": "https://localhost:8080/"
        },
        "id": "E7gTVk52_IYv",
        "outputId": "9d72868a-c18d-4c0d-e3fe-b87134a99fcf"
      },
      "execution_count": 53,
      "outputs": [
        {
          "output_type": "stream",
          "name": "stdout",
          "text": [
            "Epoch 1/10\n",
            "\u001b[1m125/125\u001b[0m \u001b[32m━━━━━━━━━━━━━━━━━━━━\u001b[0m\u001b[37m\u001b[0m \u001b[1m5s\u001b[0m 14ms/step - loss: 3233886.0000 - val_loss: 11753862.0000\n",
            "Epoch 2/10\n",
            "\u001b[1m125/125\u001b[0m \u001b[32m━━━━━━━━━━━━━━━━━━━━\u001b[0m\u001b[37m\u001b[0m \u001b[1m2s\u001b[0m 12ms/step - loss: 3072402.7500 - val_loss: 11703365.0000\n",
            "Epoch 3/10\n",
            "\u001b[1m125/125\u001b[0m \u001b[32m━━━━━━━━━━━━━━━━━━━━\u001b[0m\u001b[37m\u001b[0m \u001b[1m1s\u001b[0m 10ms/step - loss: 3094710.2500 - val_loss: 11656904.0000\n",
            "Epoch 4/10\n",
            "\u001b[1m125/125\u001b[0m \u001b[32m━━━━━━━━━━━━━━━━━━━━\u001b[0m\u001b[37m\u001b[0m \u001b[1m2s\u001b[0m 13ms/step - loss: 3054707.2500 - val_loss: 11612187.0000\n",
            "Epoch 5/10\n",
            "\u001b[1m125/125\u001b[0m \u001b[32m━━━━━━━━━━━━━━━━━━━━\u001b[0m\u001b[37m\u001b[0m \u001b[1m2s\u001b[0m 9ms/step - loss: 3091121.7500 - val_loss: 11568109.0000\n",
            "Epoch 6/10\n",
            "\u001b[1m125/125\u001b[0m \u001b[32m━━━━━━━━━━━━━━━━━━━━\u001b[0m\u001b[37m\u001b[0m \u001b[1m1s\u001b[0m 9ms/step - loss: 3004249.0000 - val_loss: 11524589.0000\n",
            "Epoch 7/10\n",
            "\u001b[1m125/125\u001b[0m \u001b[32m━━━━━━━━━━━━━━━━━━━━\u001b[0m\u001b[37m\u001b[0m \u001b[1m1s\u001b[0m 10ms/step - loss: 3035755.2500 - val_loss: 11481398.0000\n",
            "Epoch 8/10\n",
            "\u001b[1m125/125\u001b[0m \u001b[32m━━━━━━━━━━━━━━━━━━━━\u001b[0m\u001b[37m\u001b[0m \u001b[1m1s\u001b[0m 11ms/step - loss: 2974626.0000 - val_loss: 11438869.0000\n",
            "Epoch 9/10\n",
            "\u001b[1m125/125\u001b[0m \u001b[32m━━━━━━━━━━━━━━━━━━━━\u001b[0m\u001b[37m\u001b[0m \u001b[1m1s\u001b[0m 11ms/step - loss: 2947610.2500 - val_loss: 11396662.0000\n",
            "Epoch 10/10\n",
            "\u001b[1m125/125\u001b[0m \u001b[32m━━━━━━━━━━━━━━━━━━━━\u001b[0m\u001b[37m\u001b[0m \u001b[1m2s\u001b[0m 16ms/step - loss: 2967799.7500 - val_loss: 11354647.0000\n"
          ]
        },
        {
          "output_type": "execute_result",
          "data": {
            "text/plain": [
              "<keras.src.callbacks.history.History at 0x7aa163c0ab00>"
            ]
          },
          "metadata": {},
          "execution_count": 53
        }
      ]
    },
    {
      "cell_type": "code",
      "source": [],
      "metadata": {
        "id": "Q9AUoTbCFunu"
      },
      "execution_count": 53,
      "outputs": []
    },
    {
      "cell_type": "code",
      "source": [
        "import numpy as np\n",
        "\n",
        "\n",
        "def correct_lstm_output(predicted_values, actual_values, threshold=0.05):\n",
        "    # Calculate the residual (difference) between predicted and actual values\n",
        "    residual = predicted_values - actual_values\n",
        "\n",
        "    # Apply a simple correction factor based on the threshold (this could be SARIMA model-based logic)\n",
        "    correction_factor = residual * threshold\n",
        "\n",
        "    # Correct the predicted values by adding the correction factor\n",
        "    corrected_values = predicted_values + correction_factor\n",
        "    return corrected_values\n"
      ],
      "metadata": {
        "id": "BwWhr2W5ELj1"
      },
      "execution_count": 54,
      "outputs": []
    },
    {
      "cell_type": "code",
      "source": [
        "# Get predictions from the model\n",
        "y_pred = clstm.predict(X_test)\n",
        "\n",
        "\n",
        "corrected_predictions = []\n",
        "\n",
        "# Apply SARIMA correction to the LSTM predictions (now on arrays)\n",
        "for i in range(len(y_pred)):\n",
        "    # We expect both predicted values and actual values to be arrays (or at least series)\n",
        "    corrected_prediction = correct_lstm_output(y_pred[i], Y_test[i], threshold=0.05)\n",
        "    corrected_predictions.append(corrected_prediction)\n",
        "\n",
        "# Inverse transform the predictions and actual values using the scaler for Y (scaler_Y)\n",
        "y_pred = scaler_Y.inverse_transform(np.array(corrected_predictions).reshape(-1, 1))\n",
        "y_test = scaler_Y.inverse_transform(Y_test.reshape(-1, 1))\n",
        "\n",
        "\n",
        "\n",
        "import math\n",
        "from sklearn.metrics import mean_squared_error\n",
        "rmse = math.sqrt(mean_squared_error(y_test, y_pred))\n",
        "print(f'RMSE: {rmse}')\n"
      ],
      "metadata": {
        "colab": {
          "base_uri": "https://localhost:8080/"
        },
        "id": "42VXnFclEPgF",
        "outputId": "d383457d-5446-45ae-bc9f-63c8cd33bc4d"
      },
      "execution_count": 55,
      "outputs": [
        {
          "output_type": "stream",
          "name": "stdout",
          "text": [
            "\u001b[1m32/32\u001b[0m \u001b[32m━━━━━━━━━━━━━━━━━━━━\u001b[0m\u001b[37m\u001b[0m \u001b[1m2s\u001b[0m 41ms/step\n",
            "RMSE: 14806622.99230286\n"
          ]
        }
      ]
    },
    {
      "cell_type": "code",
      "source": [
        "print(f\"y_pred[i]: {y_pred[i]}, type: {type(y_pred[i])}, shape: {np.shape(y_pred[i])}\")\n",
        "print(f\"Y_test[i]: {Y_test[i]}, type: {type(Y_test[i])}, shape: {np.shape(Y_test[i])}\")\n"
      ],
      "metadata": {
        "colab": {
          "base_uri": "https://localhost:8080/"
        },
        "id": "UmDWfH2DEZxl",
        "outputId": "7a3ef243-9ba2-4762-d9c1-0eff4d3c85f9"
      },
      "execution_count": 56,
      "outputs": [
        {
          "output_type": "stream",
          "name": "stdout",
          "text": [
            "y_pred[i]: [-615088.25], type: <class 'numpy.ndarray'>, shape: (1,)\n",
            "Y_test[i]: 4511.8, type: <class 'numpy.float64'>, shape: ()\n"
          ]
        }
      ]
    },
    {
      "cell_type": "code",
      "source": [],
      "metadata": {
        "id": "uXc8W4xcDNk1"
      },
      "execution_count": 56,
      "outputs": []
    },
    {
      "cell_type": "markdown",
      "source": [
        "Prediction and Correction"
      ],
      "metadata": {
        "id": "SOjWty3d_y-X"
      }
    },
    {
      "cell_type": "code",
      "source": [
        "# Function to apply correction based on SARIMA\n",
        "def correct_lstm_output(lstm_output, actual, threshold=0.05):\n",
        "    actual = actual.reshape(-1, 1)  # Reshape for SARIMA\n",
        "\n",
        "    # Fit SARIMA to the entire actual data\n",
        "    forecast = fit_sarima(actual[:, 0])  # Pass the entire time series for SARIMA\n",
        "\n",
        "    # Calculate error between SARIMA forecast and LSTM output\n",
        "    error = np.abs(forecast - lstm_output)\n",
        "\n",
        "    # If error exceeds the threshold, correct the LSTM output\n",
        "    if error > threshold:\n",
        "        corrected_output = forecast\n",
        "    else:\n",
        "        corrected_output = lstm_output\n",
        "\n",
        "    return corrected_output"
      ],
      "metadata": {
        "id": "Bdl06A2-CWyl"
      },
      "execution_count": 57,
      "outputs": []
    },
    {
      "cell_type": "markdown",
      "source": [
        "Evaluation"
      ],
      "metadata": {
        "id": "21vEgIXfAav_"
      }
    },
    {
      "cell_type": "code",
      "source": [
        "# Evaluate the model performance\n",
        "\n",
        "evaluation = clstm.evaluate(X_test, Y_test)\n",
        "print(f\"Evaluation Loss (Mean Squared Error): {evaluation}\")\n",
        "\n",
        "# Optionally plot the results\n",
        "import matplotlib.pyplot as plt\n",
        "\n",
        "plt.plot(y_test, label='True Data')\n",
        "plt.plot(y_pred, label='Predicted Data')\n",
        "plt.legend()\n",
        "plt.show()\n"
      ],
      "metadata": {
        "colab": {
          "base_uri": "https://localhost:8080/",
          "height": 462
        },
        "id": "8ynTUgfOAX4f",
        "outputId": "c79253ef-9434-48e3-e4c3-85a1833ea602"
      },
      "execution_count": 58,
      "outputs": [
        {
          "output_type": "stream",
          "name": "stdout",
          "text": [
            "Evaluation Loss (Mean Squared Error): 11354647.0\n"
          ]
        },
        {
          "output_type": "display_data",
          "data": {
            "text/plain": [
              "<Figure size 640x480 with 1 Axes>"
            ],
            "image/png": "[encoded data removed]"
          },
          "metadata": {}
        }
      ]
    },
    {
      "cell_type": "code",
      "source": [],
      "metadata": {
        "id": "urhuRte5_IP2"
      },
      "execution_count": 58,
      "outputs": []
    },
    {
      "cell_type": "code",
      "source": [],
      "metadata": {
        "id": "zDGfWXlr-Pln"
      },
      "execution_count": 58,
      "outputs": []
    },
    {
      "cell_type": "markdown",
      "metadata": {
        "id": "FLu02D_wzQBa"
      },
      "source": [
        "# Step4: Predicate"
      ]
    },
    {
      "cell_type": "code",
      "source": [
        "# Forecasting the next 5 days\n",
        "def forecast(model, X, n_steps):\n",
        "    forecasted = []\n",
        "    # Initialize current_step with the last sequence from X_seq but only with the first feature (index 0)\n",
        "    current_step = X[-1][:, 0].reshape(1, time_steps, 1) # Change here\n",
        "\n",
        "    for _ in range(n_steps):\n",
        "        # Reshape to match expected input shape of LSTM (batch_size, time_steps, n_features)\n",
        "        predicted = model.predict(current_step)\n",
        "\n",
        "        # Extract prediction and append to forecasted list\n",
        "        forecasted.append(predicted[0, 0])\n",
        "\n",
        "        # Shift the current_step one step to the left and insert prediction\n",
        "        current_step = np.roll(current_step, -1, axis=1)\n",
        "        current_step[0, -1, 0] = predicted[0,0]  # Update with the predicted value\n",
        "\n",
        "    return scaler_Y.inverse_transform(np.array(forecasted).reshape(-1, 1))\n",
        "\n",
        "# Forecast the next 5 days\n",
        "forecasted_prices = forecast(model, X_seq, 5)"
      ],
      "metadata": {
        "colab": {
          "base_uri": "https://localhost:8080/"
        },
        "id": "1e1SLDb1IegF",
        "outputId": "f8cd3587-561e-4bfc-fcc4-650340444680"
      },
      "execution_count": 59,
      "outputs": [
        {
          "output_type": "stream",
          "name": "stdout",
          "text": [
            "\u001b[1m1/1\u001b[0m \u001b[32m━━━━━━━━━━━━━━━━━━━━\u001b[0m\u001b[37m\u001b[0m \u001b[1m0s\u001b[0m 276ms/step\n",
            "\u001b[1m1/1\u001b[0m \u001b[32m━━━━━━━━━━━━━━━━━━━━\u001b[0m\u001b[37m\u001b[0m \u001b[1m0s\u001b[0m 27ms/step\n",
            "\u001b[1m1/1\u001b[0m \u001b[32m━━━━━━━━━━━━━━━━━━━━\u001b[0m\u001b[37m\u001b[0m \u001b[1m0s\u001b[0m 31ms/step\n",
            "\u001b[1m1/1\u001b[0m \u001b[32m━━━━━━━━━━━━━━━━━━━━\u001b[0m\u001b[37m\u001b[0m \u001b[1m0s\u001b[0m 34ms/step\n",
            "\u001b[1m1/1\u001b[0m \u001b[32m━━━━━━━━━━━━━━━━━━━━\u001b[0m\u001b[37m\u001b[0m \u001b[1m0s\u001b[0m 26ms/step\n"
          ]
        }
      ]
    },
    {
      "cell_type": "code",
      "execution_count": 60,
      "metadata": {
        "id": "9Gd_F1G_0exX"
      },
      "outputs": [],
      "source": [
        "# Extract the last date in the dataset\n",
        "last_date = pd.to_datetime(data['Date'].iloc[-1])\n",
        "\n",
        "# Generate the next 5 dates\n",
        "next_5_dates = [last_date + pd.Timedelta(days=i) for i in range(1, 6)]\n",
        "\n",
        "# next_5_dates"
      ]
    },
    {
      "cell_type": "markdown",
      "metadata": {
        "id": "xxQ3QkeSWQkQ"
      },
      "source": [
        "## s(i) Next_5days"
      ]
    },
    {
      "cell_type": "code",
      "execution_count": 61,
      "metadata": {
        "colab": {
          "base_uri": "https://localhost:8080/"
        },
        "id": "OwWf9ov-0Vj_",
        "outputId": "fc7bd702-8e34-46ac-fac4-29eec3a829bb"
      },
      "outputs": [
        {
          "output_type": "stream",
          "name": "stdout",
          "text": [
            " 2024-08-30 : 455.9604797363281\n",
            " 2024-08-31 : 433.74188232421875\n",
            " 2024-09-01 : 401.6917724609375\n",
            " 2024-09-02 : 368.4352722167969\n",
            " 2024-09-03 : 338.9972839355469\n"
          ]
        }
      ],
      "source": [
        "# Print the next 5 days' closing prices with dates\n",
        "\n",
        "\n",
        "for date, price in zip(next_5_dates, forecasted_prices):\n",
        "    print(f\" {date.strftime('%Y-%m-%d')} : {price[0]}\")"
      ]
    },
    {
      "cell_type": "markdown",
      "metadata": {
        "id": "Qz153dbh1qUQ"
      },
      "source": [
        "## s(ii) plot_only5days"
      ]
    },
    {
      "cell_type": "code",
      "execution_count": 62,
      "metadata": {
        "colab": {
          "base_uri": "https://localhost:8080/",
          "height": 611
        },
        "id": "repsqlcC28St",
        "outputId": "7b2dc8ff-3d1d-4e3a-d4dd-c7ba14bcea1f"
      },
      "outputs": [
        {
          "output_type": "display_data",
          "data": {
            "text/plain": [
              "<Figure size 1400x700 with 1 Axes>"
            ],
            "image/png": "[encoded data removed]"
          },
          "metadata": {}
        }
      ],
      "source": [
        "# Import necessary library\n",
        "import pandas as pd\n",
        "import matplotlib.pyplot as plt\n",
        "\n",
        "\n",
        "# Plotting the results\n",
        "plt.figure(figsize=(14, 7))\n",
        "\n",
        "\n",
        "# Convert 'Date' column to datetime if it's not already\n",
        "if not pd.api.types.is_datetime64_any_dtype(data['Date']):\n",
        "    # Use '%Y-%m-%d' format for four-digit year\n",
        "    data['Date'] = pd.to_datetime(data['Date'], format='%Y-%m-%d')\n",
        "\n",
        "# Convert dates to naive timestamps if they are timezone-aware\n",
        "plt.plot(data['Date'].dt.tz_localize(None), data['Close'], label='Actual Close Prices')\n",
        "\n",
        "\n",
        "# Plot forecasted closing prices\n",
        "forecasted_dates = pd.to_datetime(next_5_dates)\n",
        "# Convert dates to naive timestamps if they are timezone-aware\n",
        "plt.plot(forecasted_dates.tz_localize(None), forecasted_prices, label='Forecasted Close Prices', linestyle='--')\n",
        "\n",
        "\n",
        "\n",
        "plt.xlabel('Date')\n",
        "plt.ylabel('Close Price')\n",
        "plt.title(' Forecasted Close Prices next 5days using Corrector-LSTM')\n",
        "plt.legend()\n",
        "plt.show()"
      ]
    },
    {
      "cell_type": "code",
      "execution_count": 62,
      "metadata": {
        "id": "pIfLyM2WGQ9Z"
      },
      "outputs": [],
      "source": []
    },
    {
      "cell_type": "code",
      "execution_count": 63,
      "metadata": {
        "id": "ypSE1EdyXipE",
        "colab": {
          "base_uri": "https://localhost:8080/"
        },
        "outputId": "f870eecd-fb1b-44a5-9be4-878dc2d74b5c"
      },
      "outputs": [
        {
          "output_type": "stream",
          "name": "stdout",
          "text": [
            "Evaluation Loss (Mean Squared Error): 11354647.0\n"
          ]
        }
      ],
      "source": [
        "evaluation = clstm.evaluate(X_test, Y_test)\n",
        "print(f\"Evaluation Loss (Mean Squared Error): {evaluation}\")"
      ]
    }
  ],
  "metadata": {
    "colab": {
      "provenance": [],
      "toc_visible": true
    },
    "kernelspec": {
      "display_name": "Python 3",
      "name": "python3"
    },
    "language_info": {
      "name": "python"
    }
  },
  "nbformat": 4,
  "nbformat_minor": 0
}